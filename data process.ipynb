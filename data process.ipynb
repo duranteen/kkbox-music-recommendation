{
 "cells": [
  {
   "cell_type": "code",
   "execution_count": 1,
   "metadata": {
    "collapsed": true
   },
   "outputs": [],
   "source": [
    "import pandas as pd\n",
    "import numpy as np\n",
    "from sklearn.preprocessing import LabelEncoder\n",
    "from itertools import combinations\n",
    "import scipy.sparse as sp\n",
    "from sklearn.decomposition import PCA"
   ]
  },
  {
   "cell_type": "code",
   "execution_count": 2,
   "outputs": [
    {
     "name": "stderr",
     "output_type": "stream",
     "text": [
      "/var/folders/xh/jth0z5cd3gvbvnjcg95dy6nc0000gn/T/ipykernel_25665/3772152478.py:10: FutureWarning: The series.append method is deprecated and will be removed from pandas in a future version. Use pandas.concat instead.\n",
      "  existing_songs = set(train_data['song_id'].append(test_data['song_id']))\n",
      "/var/folders/xh/jth0z5cd3gvbvnjcg95dy6nc0000gn/T/ipykernel_25665/3772152478.py:20: FutureWarning: The series.append method is deprecated and will be removed from pandas in a future version. Use pandas.concat instead.\n",
      "  existing_mem = set(train_data['msno'].append(train_data['msno']))\n"
     ]
    }
   ],
   "source": [
    "# Read data\n",
    "path = 'data/'\n",
    "train_data = pd.read_csv(path + 'train.csv')\n",
    "test_data = pd.read_csv(path + 'test.csv')\n",
    "members_data = pd.read_csv(path + 'members.csv', parse_dates=['expiration_date', 'registration_init_time'])\n",
    "songs_data = pd.read_csv(path + 'songs.csv')\n",
    "song_extinfo_data = pd.read_csv(path + 'song_extra_info.csv')\n",
    "\n",
    "# Count the songs that appear in the training and test data\n",
    "existing_songs = set(train_data['song_id'].append(test_data['song_id']))\n",
    "# Filtrate songs_data file\n",
    "songs_data['existing'] = songs_data['song_id'].apply(lambda x: 1 if x in existing_songs else 0)\n",
    "songs_data = songs_data[songs_data.existing == 1]\n",
    "songs_data.drop('existing', axis=1, inplace=True)\n",
    "# Filtrate song_extinfo_data file\n",
    "song_extinfo_data['existing'] = song_extinfo_data['song_id'].apply(lambda x: 1 if x in existing_songs else 0)\n",
    "song_extinfo_data = song_extinfo_data[song_extinfo_data.existing == 1]\n",
    "song_extinfo_data.drop('existing', axis=1, inplace=True)\n",
    "# Filtrate members_data file\n",
    "existing_mem = set(train_data['msno'].append(train_data['msno']))\n",
    "members_data['existing'] = members_data['msno'].apply(lambda x: 1 if x in existing_mem else 0)\n",
    "members_data = members_data[members_data.existing == 1]\n",
    "members_data.drop('existing', axis=1, inplace=True)"
   ],
   "metadata": {
    "collapsed": false,
    "pycharm": {
     "name": "#%%\n"
    }
   }
  },
  {
   "cell_type": "code",
   "execution_count": 3,
   "outputs": [
    {
     "name": "stderr",
     "output_type": "stream",
     "text": [
      "/var/folders/xh/jth0z5cd3gvbvnjcg95dy6nc0000gn/T/ipykernel_25665/1414995499.py:4: FutureWarning: The series.append method is deprecated and will be removed from pandas in a future version. Use pandas.concat instead.\n",
      "  msno_encoder.fit(train_data['msno'].append(test_data['msno']))\n",
      "/var/folders/xh/jth0z5cd3gvbvnjcg95dy6nc0000gn/T/ipykernel_25665/1414995499.py:10: FutureWarning: The series.append method is deprecated and will be removed from pandas in a future version. Use pandas.concat instead.\n",
      "  sid_encoder.fit(train_data['song_id'].append(test_data['song_id']))\n"
     ]
    }
   ],
   "source": [
    "# labelEncoding msno and song id\n",
    "# msno\n",
    "msno_encoder = LabelEncoder()\n",
    "msno_encoder.fit(train_data['msno'].append(test_data['msno']))\n",
    "members_data['msno'] = msno_encoder.transform(members_data['msno'])\n",
    "train_data['msno'] = msno_encoder.transform(train_data['msno'])\n",
    "test_data['msno'] = msno_encoder.transform(test_data['msno'])\n",
    "# song id\n",
    "sid_encoder = LabelEncoder()\n",
    "sid_encoder.fit(train_data['song_id'].append(test_data['song_id']))\n",
    "songs_data['song_id'] = sid_encoder.transform(songs_data['song_id'])\n",
    "train_data['song_id'] = sid_encoder.transform(train_data['song_id'])\n",
    "test_data['song_id'] = sid_encoder.transform(test_data['song_id'])\n",
    "song_extinfo_data['song_id'] = sid_encoder.transform(song_extinfo_data['song_id'])"
   ],
   "metadata": {
    "collapsed": false,
    "pycharm": {
     "name": "#%%\n"
    }
   }
  },
  {
   "cell_type": "code",
   "execution_count": 4,
   "outputs": [
    {
     "name": "stdout",
     "output_type": "stream",
     "text": [
      "source_system_tab\n"
     ]
    },
    {
     "name": "stderr",
     "output_type": "stream",
     "text": [
      "/var/folders/xh/jth0z5cd3gvbvnjcg95dy6nc0000gn/T/ipykernel_25665/81384668.py:8: FutureWarning: The series.append method is deprecated and will be removed from pandas in a future version. Use pandas.concat instead.\n",
      "  encoder.fit(train_data[col].fillna('nan').append(test_data[col].fillna('nan')))\n"
     ]
    },
    {
     "name": "stdout",
     "output_type": "stream",
     "text": [
      "source_screen_name\n",
      "source_type\n"
     ]
    }
   ],
   "source": [
    "# LabelEncoding remaining category features\n",
    "# source_system_tab,source_screen_name,source_type\n",
    "columns = ['source_system_tab', 'source_screen_name', 'source_type']\n",
    "for col in columns:\n",
    "    encoder = LabelEncoder()\n",
    "    print(col)\n",
    "    # if isinstance(train_data[columns[0]][0], str):\n",
    "    encoder.fit(train_data[col].fillna('nan').append(test_data[col].fillna('nan')))\n",
    "    train_data[col] = encoder.transform(train_data[col].fillna('nan'))\n",
    "    test_data[col] = encoder.transform(test_data[col].fillna('nan'))\n",
    "    # else:\n",
    "    #     encoder.fit(train_data[col].fillna(-1).append(test_data[col].fillna(-1)))\n",
    "    #     train_data[col] = encoder.transform(train_data[col].fillna(-1))\n",
    "    #     test_data[col] = encoder.transform(test_data[col].fillna(-1))"
   ],
   "metadata": {
    "collapsed": false,
    "pycharm": {
     "name": "#%%\n"
    }
   }
  },
  {
   "cell_type": "code",
   "execution_count": 5,
   "outputs": [
    {
     "data": {
      "text/plain": "False"
     },
     "execution_count": 5,
     "metadata": {},
     "output_type": "execute_result"
    }
   ],
   "source": [
    "isinstance(train_data[columns[0]][0], str)"
   ],
   "metadata": {
    "collapsed": false,
    "pycharm": {
     "name": "#%%\n"
    }
   }
  },
  {
   "cell_type": "code",
   "execution_count": 6,
   "outputs": [
    {
     "name": "stdout",
     "output_type": "stream",
     "text": [
      "city\n",
      "registered_via\n"
     ]
    }
   ],
   "source": [
    "# city,gender,registered_via\n",
    "columns = ['city', 'registered_via']\n",
    "for col in columns:\n",
    "    print(col)\n",
    "    encoder = LabelEncoder()\n",
    "    # if isinstance(members_data[col][0], str):\n",
    "    encoder.fit(members_data[col].fillna('nan'))\n",
    "    members_data[col] = encoder.transform(members_data[col].fillna('nan'))\n",
    "    # else:\n",
    "    #     encoder.fit(members_data[col].fillna(-1))\n",
    "    #     members_data[col] = encoder.transform(members_data[col].fillna(-1))\n",
    "encoder = LabelEncoder()\n",
    "encoder.fit(members_data['gender'].fillna('nan'))\n",
    "members_data['gender'] = encoder.transform(members_data['gender'].fillna('nan'))"
   ],
   "metadata": {
    "collapsed": false,
    "pycharm": {
     "name": "#%%\n"
    }
   }
  },
  {
   "cell_type": "code",
   "execution_count": 7,
   "outputs": [],
   "source": [
    "# genre_idx: | delimiter -> 4 col\n",
    "def get_genreids_split(df):\n",
    "    genreids_split = np.zeros((len(df), 4))\n",
    "    for i in range(len(df)):\n",
    "        if df[i] == 'nan':\n",
    "            continue\n",
    "        else:\n",
    "            num_genre = str(df[i]).count('|')\n",
    "            splits = str(df[i]).split('|')\n",
    "            if num_genre + 1 > 2:\n",
    "                genreids_split[i, 0] = int(splits[0])\n",
    "                genreids_split[i, 1] = int(splits[1])\n",
    "                genreids_split[i, 2] = int(splits[2])\n",
    "            elif num_genre + 1 > 1:\n",
    "                genreids_split[i, 0] = int(splits[0])\n",
    "                genreids_split[i, 1] = int(splits[1])\n",
    "            elif num_genre + 1 == 1:\n",
    "                genreids_split[i, 0] = int(splits[0])\n",
    "            genreids_split[i, 3] = num_genre + 1\n",
    "    return genreids_split"
   ],
   "metadata": {
    "collapsed": false,
    "pycharm": {
     "name": "#%%\n"
    }
   }
  },
  {
   "cell_type": "code",
   "execution_count": 8,
   "outputs": [
    {
     "name": "stderr",
     "output_type": "stream",
     "text": [
      "/var/folders/xh/jth0z5cd3gvbvnjcg95dy6nc0000gn/T/ipykernel_25665/3436935766.py:9: FutureWarning: The series.append method is deprecated and will be removed from pandas in a future version. Use pandas.concat instead.\n",
      "  songs_data['first_genre_id'].append(songs_data['second_genre_id']).append(songs_data['third_genre_id']))\n",
      "/var/folders/xh/jth0z5cd3gvbvnjcg95dy6nc0000gn/T/ipykernel_25665/3436935766.py:9: FutureWarning: The series.append method is deprecated and will be removed from pandas in a future version. Use pandas.concat instead.\n",
      "  songs_data['first_genre_id'].append(songs_data['second_genre_id']).append(songs_data['third_genre_id']))\n"
     ]
    }
   ],
   "source": [
    "genreids_split = get_genreids_split(songs_data['genre_ids'].fillna('nan').values)\n",
    "songs_data['first_genre_id'] = genreids_split[:, 0]\n",
    "songs_data['second_genre_id'] = genreids_split[:, 1]\n",
    "songs_data['third_genre_id'] = genreids_split[:, 2]\n",
    "songs_data['fourth_genre_id'] = genreids_split[:, 3]\n",
    "# label encoding\n",
    "genre_encoder = LabelEncoder()\n",
    "genre_encoder.fit(\n",
    "    songs_data['first_genre_id'].append(songs_data['second_genre_id']).append(songs_data['third_genre_id']))\n",
    "songs_data['first_genre_id'] = genre_encoder.transform(songs_data['first_genre_id'])\n",
    "songs_data['second_genre_id'] = genre_encoder.transform(songs_data['second_genre_id'])\n",
    "songs_data['third_genre_id'] = genre_encoder.transform(songs_data['third_genre_id'])"
   ],
   "metadata": {
    "collapsed": false,
    "pycharm": {
     "name": "#%%\n"
    }
   }
  },
  {
   "cell_type": "code",
   "execution_count": 9,
   "outputs": [],
   "source": [
    "# artist_name -> get first\n",
    "def artist_count(x):\n",
    "    return x.count('and') + x.count(',') + x.count(' feat') + x.count('&') + 1\n",
    "\n",
    "\n",
    "def get_1st_artist(x):\n",
    "    if x.count('and') > 0:\n",
    "        x = x.split('and')[0]\n",
    "    if x.count(',') > 0:\n",
    "        x = x.split(',')[0]\n",
    "    if x.count(' feat') > 0:\n",
    "        x = x.split(' feat')[0]\n",
    "    if x.count('&') > 0:\n",
    "        x = x.split('&')[0]\n",
    "    return x\n",
    "\n",
    "\n",
    "songs_data['artist_cnt'] = songs_data['artist_name'].apply(artist_count).astype(np.int8)\n",
    "songs_data['first_artist_name'] = songs_data['artist_name'].apply(get_1st_artist)"
   ],
   "metadata": {
    "collapsed": false,
    "pycharm": {
     "name": "#%%\n"
    }
   }
  },
  {
   "cell_type": "code",
   "execution_count": 10,
   "outputs": [
    {
     "name": "stdout",
     "output_type": "stream",
     "text": [
      "first_artist_name\n",
      "first_lyricist_name\n",
      "first_composer_name\n"
     ]
    }
   ],
   "source": [
    "# lyricist and composer\n",
    "def lyricist_or_composer_count(x):\n",
    "    try:\n",
    "        return x.count('and') + x.count('/') + x.count('|') + x.count('\\\\') + x.count(';') + x.count('&') + 1\n",
    "    except:\n",
    "        return 0\n",
    "\n",
    "\n",
    "def get_first_lyricist_or_composer(x):\n",
    "    try:\n",
    "        if x.count('and') > 0:\n",
    "            x = x.split('and')[0]\n",
    "        if x.count(',') > 0:\n",
    "            x = x.split(',')[0]\n",
    "        if x.count(' feat') > 0:\n",
    "            x = x.split(' feat')[0]\n",
    "        if x.count('&') > 0:\n",
    "            x = x.split('&')[0]\n",
    "        if x.count('|') > 0:\n",
    "            x = x.split('|')[0]\n",
    "        if x.count('/') > 0:\n",
    "            x = x.split('/')[0]\n",
    "        if x.count('\\\\') > 0:\n",
    "            x = x.split('\\\\')[0]\n",
    "        if x.count(';') > 0:\n",
    "            x = x.split(';')[0]\n",
    "        return x.strip()\n",
    "    except:\n",
    "        return x\n",
    "\n",
    "\n",
    "songs_data['lyricist_cnt'] = songs_data['lyricist'].apply(lyricist_or_composer_count).astype(np.int8)\n",
    "songs_data['composer_cnt'] = songs_data['composer'].apply(lyricist_or_composer_count).astype(np.int8)\n",
    "songs_data['first_lyricist_name'] = songs_data['lyricist'].apply(get_first_lyricist_or_composer)\n",
    "songs_data['first_composer_name'] = songs_data['composer'].apply(get_first_lyricist_or_composer)\n",
    "# label encoding\n",
    "columns = ['first_artist_name', 'first_lyricist_name', 'first_composer_name']\n",
    "for col in columns:\n",
    "    print(col)\n",
    "    encoder = LabelEncoder()\n",
    "    encoder.fit(songs_data[col].fillna('nan'))\n",
    "    songs_data[col] = encoder.transform(songs_data[col].fillna('nan'))"
   ],
   "metadata": {
    "collapsed": false,
    "pycharm": {
     "name": "#%%\n"
    }
   }
  },
  {
   "cell_type": "code",
   "execution_count": 11,
   "outputs": [],
   "source": [
    "# is featured\n",
    "songs_data['is_featured'] = songs_data['artist_name'].apply(lambda x: 1 if ' feat' in str(x) else 0).astype(np.int8)\n",
    "# language\n",
    "songs_data['language'] = songs_data['language'].fillna(-1)\n",
    "songs_data.drop(['genre_ids', 'artist_name', 'lyricist', 'composer'], axis=1, inplace=True)\n",
    "# age\n",
    "members_data['bd'] = members_data['bd'].apply(lambda x: np.nan if x < 0 or x >= 80 else x)"
   ],
   "metadata": {
    "collapsed": false,
    "pycharm": {
     "name": "#%%\n"
    }
   }
  },
  {
   "cell_type": "code",
   "execution_count": 12,
   "outputs": [
    {
     "name": "stdout",
     "output_type": "stream",
     "text": [
      "language\n",
      "first_genre_id\n",
      "second_genre_id\n",
      "third_genre_id\n",
      "first_artist_name\n",
      "first_lyricist_name\n",
      "first_composer_name\n"
     ]
    }
   ],
   "source": [
    "# merge songs_data and song_extinfo_data\n",
    "song = pd.DataFrame({'song_id': range(max(train_data.song_id.max(), test_data.song_id.max()) + 1)})\n",
    "song = song.merge(songs_data, on='song_id', how='left')\n",
    "song = song.merge(song_extinfo_data, on='song_id', how='right')\n",
    "song_columns = ['language', 'first_genre_id', 'second_genre_id', 'third_genre_id', 'first_artist_name',\n",
    "                'first_lyricist_name', 'first_composer_name']\n",
    "for col in song_columns:\n",
    "    print(col)\n",
    "    col_song_cnt = song.groupby(by=col)['song_id'].count().to_dict()\n",
    "    song[col + '_song_cnt'] = song[col].apply(lambda x: col_song_cnt[x] if not np.isnan(x) else np.nan)"
   ],
   "metadata": {
    "collapsed": false,
    "pycharm": {
     "name": "#%%\n"
    }
   }
  },
  {
   "cell_type": "code",
   "execution_count": 13,
   "outputs": [
    {
     "name": "stderr",
     "output_type": "stream",
     "text": [
      "/var/folders/xh/jth0z5cd3gvbvnjcg95dy6nc0000gn/T/ipykernel_25665/979769897.py:1: FutureWarning: The frame.append method is deprecated and will be removed from pandas in a future version. Use pandas.concat instead.\n",
      "  data = train_data[['msno', 'song_id']].append(test_data[['msno', 'song_id']])\n"
     ]
    },
    {
     "name": "stdout",
     "output_type": "stream",
     "text": [
      "song_id\n",
      "language\n",
      "first_genre_id\n",
      "second_genre_id\n",
      "third_genre_id\n",
      "first_artist_name\n",
      "first_lyricist_name\n",
      "first_composer_name\n"
     ]
    }
   ],
   "source": [
    "data = train_data[['msno', 'song_id']].append(test_data[['msno', 'song_id']])\n",
    "msno_rec_cnt = data.groupby(by='msno')['song_id'].count().to_dict()\n",
    "members_data['msno_rec_cnt'] = members_data['msno'].apply(lambda x: msno_rec_cnt[x])\n",
    "data = data.merge(song, on='song_id', how='left')\n",
    "\n",
    "song_columns = ['song_id', 'language', 'first_genre_id', 'second_genre_id', 'third_genre_id', 'first_artist_name',\n",
    "                'first_lyricist_name', 'first_composer_name']\n",
    "# number of user feature\n",
    "for col in song_columns:\n",
    "    print(col)\n",
    "    col_rec_cnt = data.groupby(by=col)['msno'].count().to_dict()\n",
    "    song[col + '_rec_cnt'] = song[col].apply(lambda x: col_rec_cnt[x] if not np.isnan(x) else np.nan)"
   ],
   "metadata": {
    "collapsed": false,
    "pycharm": {
     "name": "#%%\n"
    }
   }
  },
  {
   "cell_type": "code",
   "execution_count": 14,
   "outputs": [
    {
     "name": "stderr",
     "output_type": "stream",
     "text": [
      "/var/folders/xh/jth0z5cd3gvbvnjcg95dy6nc0000gn/T/ipykernel_25665/1533027479.py:3: FutureWarning: The frame.append method is deprecated and will be removed from pandas in a future version. Use pandas.concat instead.\n",
      "  concat = train_data.drop('target', axis=1).append(test_data.drop('id', axis=1))\n"
     ]
    },
    {
     "name": "stdout",
     "output_type": "stream",
     "text": [
      "source_system_tab\n",
      "source_screen_name\n",
      "source_type\n"
     ]
    }
   ],
   "source": [
    "# source_system_tab, source_system_screen_name, source_type: prob feature\n",
    "cols = ['source_system_tab', 'source_screen_name', 'source_type']\n",
    "concat = train_data.drop('target', axis=1).append(test_data.drop('id', axis=1))\n",
    "msno_rec_cnt = data.groupby(by='msno')['song_id'].count().to_dict()\n",
    "train_data['msno_rec_cnt'] = train_data['msno'].apply(lambda x: msno_rec_cnt[x])\n",
    "test_data['msno_rec_cnt'] = test_data['msno'].apply(lambda x: msno_rec_cnt[x])\n",
    "for col in cols:\n",
    "    print(col)\n",
    "    tmp = concat.groupby(['msno', col])['song_id'].agg(\n",
    "        [('msno_' + col + '_cnt', 'count')]).reset_index()  # 出现次数 & 出现次数占比\n",
    "    train_data = train_data.merge(tmp, on=['msno', col], how='left')\n",
    "    train_data['msno_' + col + '_prob'] = train_data['msno_' + col + '_cnt'] * 1.0 / train_data['msno_rec_cnt']\n",
    "\n",
    "    test_data = test_data.merge(tmp, on=['msno', col], how='left')\n",
    "    test_data['msno_' + col + '_prob'] = test_data['msno_' + col + '_cnt'] * 1.0 / test_data['msno_rec_cnt']\n",
    "\n",
    "train_data.drop('msno_rec_cnt', axis=1, inplace=True)\n",
    "test_data.drop('msno_rec_cnt', axis=1, inplace=True)"
   ],
   "metadata": {
    "collapsed": false,
    "pycharm": {
     "name": "#%%\n"
    }
   }
  },
  {
   "cell_type": "code",
   "execution_count": 15,
   "outputs": [
    {
     "name": "stdout",
     "output_type": "stream",
     "text": [
      "cc\n",
      "xxx\n",
      "yy\n"
     ]
    },
    {
     "name": "stderr",
     "output_type": "stream",
     "text": [
      "/var/folders/xh/jth0z5cd3gvbvnjcg95dy6nc0000gn/T/ipykernel_25665/1919881708.py:17: FutureWarning: The frame.append method is deprecated and will be removed from pandas in a future version. Use pandas.concat instead.\n",
      "  data = train_data[['msno', 'song_id']].append(test_data[['msno', 'song_id']])\n"
     ]
    },
    {
     "name": "stdout",
     "output_type": "stream",
     "text": [
      "cc\n",
      "xxx\n",
      "yy\n"
     ]
    }
   ],
   "source": [
    "# isrc\n",
    "isrc = song['isrc']\n",
    "song['cc'] = isrc.str.slice(0, 2)\n",
    "song['xxx'] = isrc.str.slice(2, 5)\n",
    "song['yy'] = isrc.str.slice(5, 7).astype(float)\n",
    "song['yy'] = song['yy'].apply(lambda x: 2000 + x if x < 18 else 1900 + x)\n",
    "song['cc'] = LabelEncoder().fit_transform(song['cc'].fillna('nan'))\n",
    "song['xxx'] = LabelEncoder().fit_transform(song['xxx'].fillna('nan'))\n",
    "song['irsc_missing'] = (song['cc'] == 0) * 1.0\n",
    "# irsc count\n",
    "columns = ['cc', 'xxx', 'yy']\n",
    "for col in columns:\n",
    "    print(col)\n",
    "    song_ccxxxyy_cnt = song.groupby(by=col)['song_id'].count().to_dict()\n",
    "    song_ccxxxyy_cnt[0] = None\n",
    "    song[col + '_song_cnt'] = song[col].apply(lambda x: song_ccxxxyy_cnt[x] if not np.isnan(x) else None)\n",
    "data = train_data[['msno', 'song_id']].append(test_data[['msno', 'song_id']])\n",
    "data = data.merge(song, on='song_id', how='left')\n",
    "columns = ['cc', 'xxx', 'yy']\n",
    "for col in columns:\n",
    "    print(col)\n",
    "    song_ccxxxyy_cnt = data.groupby(by=col)['song_id'].count().to_dict()\n",
    "    song_ccxxxyy_cnt[0] = None\n",
    "    song[col + '_rec_cnt'] = song[col].apply(lambda x: song_ccxxxyy_cnt[x] if not np.isnan(x) else None)\n",
    "song.drop(['name', 'isrc'], axis=1, inplace=True)"
   ],
   "metadata": {
    "collapsed": false,
    "pycharm": {
     "name": "#%%\n"
    }
   }
  },
  {
   "cell_type": "code",
   "execution_count": 16,
   "outputs": [
    {
     "data": {
      "text/plain": "   id   msno  song_id  source_system_tab  source_screen_name  source_type  \\\n0   0  17724   228222                  3                   8            3   \n1   1  17724   407039                  3                   8            3   \n2   2    977    70211                  0                  22           10   \n3   3   1878   419092                  6                  16            8   \n4   4   1878   160096                  6                  16            8   \n\n   msno_source_system_tab_cnt  msno_source_system_tab_prob  \\\n0                         159                     1.000000   \n1                         159                     1.000000   \n2                         111                     0.834586   \n3                         502                     0.762918   \n4                         502                     0.762918   \n\n   msno_source_screen_name_cnt  msno_source_screen_name_prob  \\\n0                          158                      0.993711   \n1                          158                      0.993711   \n2                           29                      0.218045   \n3                          502                      0.762918   \n4                          502                      0.762918   \n\n   msno_source_type_cnt  msno_source_type_prob  \n0                   159               1.000000  \n1                   159               1.000000  \n2                     7               0.052632  \n3                   502               0.762918  \n4                   502               0.762918  ",
      "text/html": "<div>\n<style scoped>\n    .dataframe tbody tr th:only-of-type {\n        vertical-align: middle;\n    }\n\n    .dataframe tbody tr th {\n        vertical-align: top;\n    }\n\n    .dataframe thead th {\n        text-align: right;\n    }\n</style>\n<table border=\"1\" class=\"dataframe\">\n  <thead>\n    <tr style=\"text-align: right;\">\n      <th></th>\n      <th>id</th>\n      <th>msno</th>\n      <th>song_id</th>\n      <th>source_system_tab</th>\n      <th>source_screen_name</th>\n      <th>source_type</th>\n      <th>msno_source_system_tab_cnt</th>\n      <th>msno_source_system_tab_prob</th>\n      <th>msno_source_screen_name_cnt</th>\n      <th>msno_source_screen_name_prob</th>\n      <th>msno_source_type_cnt</th>\n      <th>msno_source_type_prob</th>\n    </tr>\n  </thead>\n  <tbody>\n    <tr>\n      <th>0</th>\n      <td>0</td>\n      <td>17724</td>\n      <td>228222</td>\n      <td>3</td>\n      <td>8</td>\n      <td>3</td>\n      <td>159</td>\n      <td>1.000000</td>\n      <td>158</td>\n      <td>0.993711</td>\n      <td>159</td>\n      <td>1.000000</td>\n    </tr>\n    <tr>\n      <th>1</th>\n      <td>1</td>\n      <td>17724</td>\n      <td>407039</td>\n      <td>3</td>\n      <td>8</td>\n      <td>3</td>\n      <td>159</td>\n      <td>1.000000</td>\n      <td>158</td>\n      <td>0.993711</td>\n      <td>159</td>\n      <td>1.000000</td>\n    </tr>\n    <tr>\n      <th>2</th>\n      <td>2</td>\n      <td>977</td>\n      <td>70211</td>\n      <td>0</td>\n      <td>22</td>\n      <td>10</td>\n      <td>111</td>\n      <td>0.834586</td>\n      <td>29</td>\n      <td>0.218045</td>\n      <td>7</td>\n      <td>0.052632</td>\n    </tr>\n    <tr>\n      <th>3</th>\n      <td>3</td>\n      <td>1878</td>\n      <td>419092</td>\n      <td>6</td>\n      <td>16</td>\n      <td>8</td>\n      <td>502</td>\n      <td>0.762918</td>\n      <td>502</td>\n      <td>0.762918</td>\n      <td>502</td>\n      <td>0.762918</td>\n    </tr>\n    <tr>\n      <th>4</th>\n      <td>4</td>\n      <td>1878</td>\n      <td>160096</td>\n      <td>6</td>\n      <td>16</td>\n      <td>8</td>\n      <td>502</td>\n      <td>0.762918</td>\n      <td>502</td>\n      <td>0.762918</td>\n      <td>502</td>\n      <td>0.762918</td>\n    </tr>\n  </tbody>\n</table>\n</div>"
     },
     "execution_count": 16,
     "metadata": {},
     "output_type": "execute_result"
    }
   ],
   "source": [
    "test_data.head()"
   ],
   "metadata": {
    "collapsed": false,
    "pycharm": {
     "name": "#%%\n"
    }
   }
  },
  {
   "cell_type": "code",
   "execution_count": 17,
   "outputs": [],
   "source": [
    "song.to_csv(path + 'song_info.csv', index=False)\n",
    "members_data.to_csv(path + 'mem_info.csv', index=False)\n",
    "train_data.to_csv(path + 'train_data.csv', index=False)\n",
    "test_data.to_csv(path + 'test_data.csv', index=False)"
   ],
   "metadata": {
    "collapsed": false,
    "pycharm": {
     "name": "#%%\n"
    }
   }
  }
 ],
 "metadata": {
  "kernelspec": {
   "display_name": "Python 3",
   "language": "python",
   "name": "python3"
  },
  "language_info": {
   "codemirror_mode": {
    "name": "ipython",
    "version": 2
   },
   "file_extension": ".py",
   "mimetype": "text/x-python",
   "name": "python",
   "nbconvert_exporter": "python",
   "pygments_lexer": "ipython2",
   "version": "2.7.6"
  }
 },
 "nbformat": 4,
 "nbformat_minor": 0
}