{
 "cells": [
  {
   "cell_type": "code",
   "execution_count": 1,
   "metadata": {
    "ExecuteTime": {
     "end_time": "2022-06-06T12:08:37.344940Z",
     "start_time": "2022-06-06T12:08:36.605664Z"
    }
   },
   "outputs": [],
   "source": [
    "import torch\n",
    "from torch import nn\n",
    "import numpy as np\n",
    "import pandas as pd\n",
    "import random\n",
    "import os.path as op\n",
    "import scipy\n",
    "import sklearn\n",
    "\n",
    "from model.net import Net\n",
    "from utils import NetworkData"
   ]
  },
  {
   "cell_type": "code",
   "execution_count": 2,
   "metadata": {
    "ExecuteTime": {
     "end_time": "2022-06-06T12:08:37.857901Z",
     "start_time": "2022-06-06T12:08:37.849473Z"
    },
    "pycharm": {
     "name": "#%%\n"
    }
   },
   "outputs": [],
   "source": [
    "learning_rate = 0.02\n",
    "weight_decay = 5e-4\n",
    "num_epochs = 10\n",
    "# val_ratio = 0.2"
   ]
  },
  {
   "cell_type": "code",
   "execution_count": 3,
   "metadata": {
    "ExecuteTime": {
     "end_time": "2022-06-06T12:21:16.675870Z",
     "start_time": "2022-06-06T12:08:38.399053Z"
    },
    "pycharm": {
     "name": "#%%\n"
    }
   },
   "outputs": [
    {
     "name": "stdout",
     "output_type": "stream",
     "text": [
      "34404 419840\n",
      "building adjacency ...\n",
      "normalize adjacency ...\n",
      "building node features ...\n",
      "building node features ...\n",
      "building edge features ...\n",
      "building edge features ...\n",
      "get data: \tnumber of users: 34404\n",
      "number of songs: 419840\n",
      "adjacency: (454244, 454244)\n",
      "Lap: (454244, 454244)\n",
      "dim of user feature: 6\n"
     ]
    }
   ],
   "source": [
    "data = NetworkData(cache=None, save=False)\n",
    "adj, L, x_user, x_item, x_train_edge, x_test_edge, y_train = data.get_data()\n",
    "data.describe()"
   ]
  },
  {
   "cell_type": "code",
   "execution_count": 4,
   "metadata": {
    "ExecuteTime": {
     "end_time": "2022-06-06T12:21:19.116778Z",
     "start_time": "2022-06-06T12:21:19.075346Z"
    },
    "pycharm": {
     "name": "#%%\n"
    }
   },
   "outputs": [
    {
     "name": "stderr",
     "output_type": "stream",
     "text": [
      "/var/folders/xh/jth0z5cd3gvbvnjcg95dy6nc0000gn/T/ipykernel_25411/1708691962.py:2: RuntimeWarning: divide by zero encountered in true_divide\n",
      "  x_user = x_user / x_user.sum(1, keepdims=True)\n",
      "/var/folders/xh/jth0z5cd3gvbvnjcg95dy6nc0000gn/T/ipykernel_25411/1708691962.py:2: RuntimeWarning: invalid value encountered in true_divide\n",
      "  x_user = x_user / x_user.sum(1, keepdims=True)\n"
     ]
    }
   ],
   "source": [
    "# norm\n",
    "x_user = x_user / x_user.sum(1, keepdims=True)\n",
    "x_item = x_item / x_item.sum(1, keepdims=True)"
   ]
  },
  {
   "cell_type": "code",
   "execution_count": 5,
   "metadata": {
    "ExecuteTime": {
     "end_time": "2022-06-06T12:21:19.770129Z",
     "start_time": "2022-06-06T12:21:19.719177Z"
    },
    "pycharm": {
     "name": "#%%\n"
    }
   },
   "outputs": [],
   "source": [
    "# to tensor\n",
    "x_user = torch.from_numpy(np.float32(x_user))\n",
    "x_item = torch.from_numpy(np.float32(x_item))\n",
    "y_train = torch.from_numpy(np.array(y_train))\n",
    "\n",
    "num_user_nodes, user_input_dim = x_user.shape\n",
    "num_item_nodes, item_input_dim = x_item.shape\n",
    "hidden_dim = 500\n",
    "embedding_dim = 500\n",
    "edge_dim = len(x_train_edge['9176-86884'])\n",
    "num_nodes = num_item_nodes + num_user_nodes"
   ]
  },
  {
   "cell_type": "code",
   "execution_count": 6,
   "metadata": {
    "ExecuteTime": {
     "end_time": "2022-06-06T12:21:20.735224Z",
     "start_time": "2022-06-06T12:21:20.625878Z"
    },
    "pycharm": {
     "name": "#%%\n"
    }
   },
   "outputs": [],
   "source": [
    "indices = torch.from_numpy(np.array([L.row, L.col]).astype(\"int64\")).long()\n",
    "values = torch.from_numpy(L.data.astype(np.float32))\n",
    "adjacency = torch.sparse.FloatTensor(indices, values, L.shape)"
   ]
  },
  {
   "cell_type": "code",
   "execution_count": 7,
   "metadata": {
    "ExecuteTime": {
     "end_time": "2022-06-06T12:21:21.457294Z",
     "start_time": "2022-06-06T12:21:21.431960Z"
    },
    "pycharm": {
     "name": "#%%\n"
    }
   },
   "outputs": [
    {
     "data": {
      "text/plain": [
       "torch.Size([454244, 454244])"
      ]
     },
     "execution_count": 7,
     "metadata": {},
     "output_type": "execute_result"
    }
   ],
   "source": [
    "adjacency.shape"
   ]
  },
  {
   "cell_type": "code",
   "execution_count": 8,
   "metadata": {
    "ExecuteTime": {
     "end_time": "2022-06-06T12:21:22.156603Z",
     "start_time": "2022-06-06T12:21:22.121344Z"
    },
    "pycharm": {
     "name": "#%%\n"
    }
   },
   "outputs": [],
   "source": [
    "model = Net(user_input_dim, item_input_dim, hidden_dim, embedding_dim, edge_dim, use_edge_feature=False)\n",
    "optimizer = torch.optim.Adam(model.parameters(), lr=learning_rate, weight_decay=weight_decay)\n",
    "criterion = nn.CrossEntropyLoss()"
   ]
  },
  {
   "cell_type": "code",
   "execution_count": 9,
   "metadata": {
    "ExecuteTime": {
     "end_time": "2022-06-06T12:21:22.668079Z",
     "start_time": "2022-06-06T12:21:22.659066Z"
    },
    "pycharm": {
     "name": "#%%\n"
    }
   },
   "outputs": [],
   "source": [
    "# train\n",
    "def train():\n",
    "    loss_history = []\n",
    "    acc_history = []\n",
    "    model.train()\n",
    "    for epoch in range(num_epochs):\n",
    "\n",
    "        logits = model(adjacency, x_user, x_item, x_train_edge)\n",
    "        loss = criterion(logits, y_train)\n",
    "\n",
    "        optimizer.zero_grad()\n",
    "        loss.backward()\n",
    "        optimizer.step()\n",
    "\n",
    "        loss_history.append(loss.item())\n",
    "        acc = accuracy(logits, y_train)\n",
    "        acc_history.append(acc.item())\n",
    "        print(\"Epoch {:03d}: Loss {:.4f}, TrainAcc {:.4f}\".format(\n",
    "            epoch, loss.item(), acc.item()\n",
    "        ))\n",
    "    return loss_history, acc_history"
   ]
  },
  {
   "cell_type": "code",
   "execution_count": 10,
   "metadata": {
    "ExecuteTime": {
     "end_time": "2022-06-06T12:21:24.193043Z",
     "start_time": "2022-06-06T12:21:23.326259Z"
    },
    "pycharm": {
     "name": "#%%\n"
    }
   },
   "outputs": [],
   "source": [
    "# test\n",
    "def accuracy(logits, y):\n",
    "    ones = torch.ones_like(logits)\n",
    "    zeros = torch.zeros_like(logits)\n",
    "    y_hat = torch.where(logits > 0.5, ones, logits)\n",
    "    y_hat = torch.where(logits <= 0.5, zeros, logits)\n",
    "    return (y_hat == y).sum() / len(y_hat)\n",
    "\n",
    "# plot\n",
    "from matplotlib import pyplot as plt\n",
    "def plot_loss_and_acc(loss_history, acc_history):\n",
    "    fig = plt.figure()\n",
    "    ax1 = fig.add_subplot(111)\n",
    "    ax1.plot(range(len(loss_history)), loss_history,\n",
    "             c=np.array([255, 71, 90]) / 255.)\n",
    "    plt.ylabel('Loss')\n",
    "\n",
    "    ax2 = fig.add_subplot(111, sharex=ax1, frameon=False)\n",
    "    ax2.plot(range(len(acc_history)), acc_history,\n",
    "             c=np.array([79, 179, 255]) / 255.)\n",
    "    ax2.yaxis.tick_right()\n",
    "    ax2.yaxis.set_label_position(\"right\")\n",
    "    plt.ylabel('TrainAcc')\n",
    "\n",
    "    plt.xlabel('Epoch')\n",
    "    plt.title('Training Loss & Training Accuracy')\n",
    "    plt.show()"
   ]
  },
  {
   "cell_type": "code",
   "execution_count": null,
   "metadata": {
    "ExecuteTime": {
     "end_time": "2022-06-06T12:21:57.089488Z",
     "start_time": "2022-06-06T12:21:24.194161Z"
    },
    "pycharm": {
     "name": "#%%\n",
     "is_executing": true
    }
   },
   "outputs": [],
   "source": [
    "loss, acc = train()\n",
    "plot_loss_and_acc(loss, acc)"
   ]
  }
 ],
 "metadata": {
  "kernelspec": {
   "display_name": "Python 3 (ipykernel)",
   "language": "python",
   "name": "python3"
  },
  "language_info": {
   "codemirror_mode": {
    "name": "ipython",
    "version": 3
   },
   "file_extension": ".py",
   "mimetype": "text/x-python",
   "name": "python",
   "nbconvert_exporter": "python",
   "pygments_lexer": "ipython3",
   "version": "3.8.11"
  }
 },
 "nbformat": 4,
 "nbformat_minor": 1
}